{
 "cells": [
  {
   "cell_type": "markdown",
   "metadata": {},
   "source": [
    "## 練習時間\n",
    "#### 請寫一個函式用來計算 Mean Square Error\n",
    "$ MSE = \\frac{1}{n}\\sum_{i=1}^{n}{(Y_i - \\hat{Y}_i)^2} $\n",
    "\n",
    "### Hint: [如何取平方](https://googoodesign.gitbooks.io/-ezpython/unit-1.html)"
   ]
  },
  {
   "cell_type": "markdown",
   "metadata": {},
   "source": [
    "# [作業目標]\n",
    "- 仿造範例的MAE函數, 自己寫一個MSE函數(參考上面公式)"
   ]
  },
  {
   "cell_type": "markdown",
   "metadata": {},
   "source": [
    "# [作業重點]\n",
    "- 注意程式的縮排\n",
    "- 是否能將數學公式, 轉換為 Python 的函式組合? (In[2], Out[2])"
   ]
  },
  {
   "cell_type": "code",
   "execution_count": 3,
   "metadata": {},
   "outputs": [],
   "source": [
    "# 載入基礎套件與代稱\n",
    "import numpy as np\n",
    "import matplotlib.pyplot as plt"
   ]
  },
  {
   "cell_type": "code",
   "execution_count": 4,
   "metadata": {},
   "outputs": [],
   "source": [
    "def mean_absolute_error(y, yp):\n",
    "    \"\"\"\n",
    "    計算 MAE\n",
    "    Args:\n",
    "        - y: 實際值\n",
    "        - yp: 預測值\n",
    "    Return:\n",
    "        - mae: MAE\n",
    "    \"\"\"\n",
    "    mae = MAE = sum(abs(y - yp)) / len(y)\n",
    "    return mae\n",
    "\n",
    "# 定義 mean_squared_error 這個函數, 計算並傳回 MSE\n",
    "def mean_squared_error(y, yp):\n",
    "    \"\"\"\n",
    "    請完成這個 Function 後往下執行\n",
    "    \"\"\"\n",
    "    mse = MSE = sum(abs(y - yp)**2) / len(y)\n",
    "    return mse    "
   ]
  },
  {
   "cell_type": "code",
   "execution_count": 7,
   "metadata": {},
   "outputs": [],
   "source": [
    "# 與範例相同, 不另外解說\n",
    "# w = 3\n",
    "# b = 0.5\n",
    "# x_lin = np.linspace(0, 100, 101)\n",
    "# y = (x_lin + np.random.randn(101) * 5) * w + b\n",
    "\n",
    "# plt.plot(x_lin, y, 'b.', label = 'data points')\n",
    "# plt.title(\"Assume we have data points\")\n",
    "# plt.legend(loc = 2)\n",
    "# plt.show()"
   ]
  },
  {
   "cell_type": "code",
   "execution_count": 8,
   "metadata": {},
   "outputs": [],
   "source": [
    "# 與範例相同, 不另外解說\n",
    "# y_hat = x_lin * w + b\n",
    "# plt.plot(x_lin, y, 'b.', label = 'data')\n",
    "# plt.plot(x_lin, y_hat, 'r-', label = 'prediction')\n",
    "# plt.title(\"Assume we have data points (And the prediction)\")\n",
    "# plt.legend(loc = 2)\n",
    "# plt.show()"
   ]
  },
  {
   "cell_type": "code",
   "execution_count": 10,
   "metadata": {},
   "outputs": [],
   "source": [
    "# 執行 Function, 確認有沒有正常執行\n",
    "# MSE = mean_squared_error(y, y_hat)\n",
    "# MAE = mean_absolute_error(y, y_hat)\n",
    "# print(\"The Mean squared error is %.3f\" % (MSE))\n",
    "# print(\"The Mean absolute error is %.3f\" % (MAE))"
   ]
  },
  {
   "cell_type": "markdown",
   "metadata": {},
   "source": [
    "# [作業2]\n",
    "\n",
    "請上 Kaggle, 在 Competitions 或 Dataset 中找一組競賽或資料並寫下：  \n",
    "\n",
    "Pizza Restaurants and the Pizza They Sell\n",
    "A list of pizza restaurants, 3,500 pizzas, and their menu prices.\n",
    "\n",
    "1. 你選的這組資料為何重要  \n",
    "\n",
    "What are the least and most expensive cities for pizza?\n",
    "What is the number of restaurants serving pizza per capita (100,000 residents) across the U.S.?\n",
    "What is the median price of a large plain pizza across the U.S.?\n",
    "Which cities have the most restaurants serving pizza per capita (100,000 residents)?\n",
    "上述議題皆可以由此組資料分析,\n",
    "回答這些問題之後, 就可以分析:在某某城市定價多少的pizza比較可以賣得好\n",
    "\n",
    "2. 資料從何而來 (tips: 譬如提供者是誰、以什麼方式蒐集)  \n",
    "由Datafiniti's Business Database提供的sample\n",
    "Datafiniti是一間出售dataset的公司, 未正式購買不清楚該單位如何蒐集資料.\n",
    "\n",
    "3. 蒐集而來的資料型態為何  \n",
    "紀錄某地區販賣某類型的pizza及該pizza的售價\n",
    "\n",
    "4. 這組資料想解決的問題如何評估  \n",
    "分析在某某城市定價多少的pizza比較可以賣得好\n",
    "\n",
    "# [作業3]\n",
    "\n",
    "想像你經營一個自由載客車隊，你希望能透過數據分析以提升業績，請你思考並描述你如何規劃整體的分析/解決方案：\n",
    "\n",
    "1. 核心問題為何 (tips：如何定義 「提升業績 & 你的假設」)  \n",
    "提升業績=提高單趟的賺錢效益(長程佳,來回地點皆容易是載客熱點佳)\n",
    "利用\"在哪些地理區域搜索會有較好的載客效益\"來分析此問題\n",
    "\n",
    "2. 資料從何而來 (tips：哪些資料可能會對你想問的問題產生影響 & 資料如何蒐集)  \n",
    "與叫車APP合作蒐集上下車資訊\n",
    "\n",
    "3. 蒐集而來的資料型態為何  \n",
    "年紀/性別/上下車時間地點/叫車方式...等等\n",
    "\n",
    "4. 你要回答的問題，其如何評估 (tips：你的假設如何驗證)  \n",
    "若是按照此份分析出的guideline來駕駛計程車vs抽樣到的一般計程車司機比較賺錢效益,比較是否此分析的結果具有影響力.\n",
    "\n"
   ]
  }
 ],
 "metadata": {
  "anaconda-cloud": {},
  "kernelspec": {
   "display_name": "Python 3",
   "language": "python",
   "name": "python3"
  },
  "language_info": {
   "codemirror_mode": {
    "name": "ipython",
    "version": 3
   },
   "file_extension": ".py",
   "mimetype": "text/x-python",
   "name": "python",
   "nbconvert_exporter": "python",
   "pygments_lexer": "ipython3",
   "version": "3.6.4"
  }
 },
 "nbformat": 4,
 "nbformat_minor": 1
}
